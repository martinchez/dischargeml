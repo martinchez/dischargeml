{
 "cells": [
  {
   "cell_type": "code",
   "execution_count": 54,
   "id": "af96d0b1",
   "metadata": {},
   "outputs": [],
   "source": [
    "import pandas as pd\n",
    "from sklearn.model_selection import train_test_split\n",
    "from sklearn.ensemble import RandomForestRegressor\n",
    "from sklearn.metrics import mean_absolute_error, mean_squared_error"
   ]
  },
  {
   "cell_type": "code",
   "execution_count": 55,
   "id": "f323a7fd",
   "metadata": {},
   "outputs": [],
   "source": [
    "data = pd.read_csv('discharge.csv')"
   ]
  },
  {
   "cell_type": "code",
   "execution_count": 56,
   "id": "cf96cdd1",
   "metadata": {},
   "outputs": [
    {
     "data": {
      "text/html": [
       "<div>\n",
       "<style scoped>\n",
       "    .dataframe tbody tr th:only-of-type {\n",
       "        vertical-align: middle;\n",
       "    }\n",
       "\n",
       "    .dataframe tbody tr th {\n",
       "        vertical-align: top;\n",
       "    }\n",
       "\n",
       "    .dataframe thead th {\n",
       "        text-align: right;\n",
       "    }\n",
       "</style>\n",
       "<table border=\"1\" class=\"dataframe\">\n",
       "  <thead>\n",
       "    <tr style=\"text-align: right;\">\n",
       "      <th></th>\n",
       "      <th>id</th>\n",
       "      <th>device_id</th>\n",
       "      <th>application_id</th>\n",
       "      <th>received_at</th>\n",
       "      <th>distance</th>\n",
       "      <th>level</th>\n",
       "      <th>pulse</th>\n",
       "      <th>flow_rate</th>\n",
       "      <th>voltage_battery</th>\n",
       "      <th>voltage_solar</th>\n",
       "      <th>temp</th>\n",
       "      <th>voltage_temp</th>\n",
       "      <th>created_at</th>\n",
       "    </tr>\n",
       "  </thead>\n",
       "  <tbody>\n",
       "    <tr>\n",
       "      <th>0</th>\n",
       "      <td>1</td>\n",
       "      <td>rdms1</td>\n",
       "      <td>muringato-discharge</td>\n",
       "      <td>2024-06-06 13:42:56</td>\n",
       "      <td>3</td>\n",
       "      <td>197.0</td>\n",
       "      <td>0</td>\n",
       "      <td>0.0</td>\n",
       "      <td>3.24</td>\n",
       "      <td>0.40</td>\n",
       "      <td>NaN</td>\n",
       "      <td>NaN</td>\n",
       "      <td>2024-06-06 13:42:56</td>\n",
       "    </tr>\n",
       "    <tr>\n",
       "      <th>1</th>\n",
       "      <td>2</td>\n",
       "      <td>rdms1</td>\n",
       "      <td>muringato-discharge</td>\n",
       "      <td>2024-06-06 13:43:57</td>\n",
       "      <td>3</td>\n",
       "      <td>197.0</td>\n",
       "      <td>0</td>\n",
       "      <td>0.0</td>\n",
       "      <td>3.24</td>\n",
       "      <td>0.40</td>\n",
       "      <td>NaN</td>\n",
       "      <td>NaN</td>\n",
       "      <td>2024-06-06 13:43:57</td>\n",
       "    </tr>\n",
       "    <tr>\n",
       "      <th>2</th>\n",
       "      <td>3</td>\n",
       "      <td>rdms1</td>\n",
       "      <td>muringato-discharge</td>\n",
       "      <td>2024-06-06 13:44:58</td>\n",
       "      <td>5</td>\n",
       "      <td>195.0</td>\n",
       "      <td>0</td>\n",
       "      <td>0.0</td>\n",
       "      <td>3.24</td>\n",
       "      <td>0.40</td>\n",
       "      <td>NaN</td>\n",
       "      <td>NaN</td>\n",
       "      <td>2024-06-06 13:44:58</td>\n",
       "    </tr>\n",
       "    <tr>\n",
       "      <th>3</th>\n",
       "      <td>4</td>\n",
       "      <td>rdms1</td>\n",
       "      <td>muringato-discharge</td>\n",
       "      <td>2024-06-06 13:46:00</td>\n",
       "      <td>3</td>\n",
       "      <td>197.0</td>\n",
       "      <td>0</td>\n",
       "      <td>0.0</td>\n",
       "      <td>3.24</td>\n",
       "      <td>0.40</td>\n",
       "      <td>NaN</td>\n",
       "      <td>NaN</td>\n",
       "      <td>2024-06-06 13:46:00</td>\n",
       "    </tr>\n",
       "    <tr>\n",
       "      <th>4</th>\n",
       "      <td>5</td>\n",
       "      <td>rdms1</td>\n",
       "      <td>muringato-discharge</td>\n",
       "      <td>2024-06-06 13:47:01</td>\n",
       "      <td>3</td>\n",
       "      <td>197.0</td>\n",
       "      <td>0</td>\n",
       "      <td>0.0</td>\n",
       "      <td>3.24</td>\n",
       "      <td>0.40</td>\n",
       "      <td>NaN</td>\n",
       "      <td>NaN</td>\n",
       "      <td>2024-06-06 13:47:01</td>\n",
       "    </tr>\n",
       "    <tr>\n",
       "      <th>...</th>\n",
       "      <td>...</td>\n",
       "      <td>...</td>\n",
       "      <td>...</td>\n",
       "      <td>...</td>\n",
       "      <td>...</td>\n",
       "      <td>...</td>\n",
       "      <td>...</td>\n",
       "      <td>...</td>\n",
       "      <td>...</td>\n",
       "      <td>...</td>\n",
       "      <td>...</td>\n",
       "      <td>...</td>\n",
       "      <td>...</td>\n",
       "    </tr>\n",
       "    <tr>\n",
       "      <th>65947</th>\n",
       "      <td>65948</td>\n",
       "      <td>rdms2</td>\n",
       "      <td>muringato-discharge</td>\n",
       "      <td>2024-08-05 09:14:34</td>\n",
       "      <td>0</td>\n",
       "      <td>91.0</td>\n",
       "      <td>0</td>\n",
       "      <td>0.0</td>\n",
       "      <td>3.64</td>\n",
       "      <td>0.02</td>\n",
       "      <td>40.59</td>\n",
       "      <td>4.50</td>\n",
       "      <td>2024-08-05 09:14:34</td>\n",
       "    </tr>\n",
       "    <tr>\n",
       "      <th>65948</th>\n",
       "      <td>65949</td>\n",
       "      <td>rdms2</td>\n",
       "      <td>muringato-discharge</td>\n",
       "      <td>2024-08-05 09:16:47</td>\n",
       "      <td>0</td>\n",
       "      <td>91.0</td>\n",
       "      <td>0</td>\n",
       "      <td>0.0</td>\n",
       "      <td>3.64</td>\n",
       "      <td>0.02</td>\n",
       "      <td>40.54</td>\n",
       "      <td>4.49</td>\n",
       "      <td>2024-08-05 09:16:47</td>\n",
       "    </tr>\n",
       "    <tr>\n",
       "      <th>65949</th>\n",
       "      <td>65950</td>\n",
       "      <td>rdms2</td>\n",
       "      <td>muringato-discharge</td>\n",
       "      <td>2024-08-05 09:18:59</td>\n",
       "      <td>0</td>\n",
       "      <td>91.0</td>\n",
       "      <td>0</td>\n",
       "      <td>0.0</td>\n",
       "      <td>3.65</td>\n",
       "      <td>0.02</td>\n",
       "      <td>40.63</td>\n",
       "      <td>4.50</td>\n",
       "      <td>2024-08-05 09:18:59</td>\n",
       "    </tr>\n",
       "    <tr>\n",
       "      <th>65950</th>\n",
       "      <td>65951</td>\n",
       "      <td>rdms2</td>\n",
       "      <td>muringato-discharge</td>\n",
       "      <td>2024-08-05 09:21:13</td>\n",
       "      <td>0</td>\n",
       "      <td>91.0</td>\n",
       "      <td>0</td>\n",
       "      <td>0.0</td>\n",
       "      <td>3.63</td>\n",
       "      <td>0.02</td>\n",
       "      <td>40.59</td>\n",
       "      <td>4.50</td>\n",
       "      <td>2024-08-05 09:21:13</td>\n",
       "    </tr>\n",
       "    <tr>\n",
       "      <th>65951</th>\n",
       "      <td>65952</td>\n",
       "      <td>rdms2</td>\n",
       "      <td>muringato-discharge</td>\n",
       "      <td>2024-08-05 09:23:26</td>\n",
       "      <td>0</td>\n",
       "      <td>91.0</td>\n",
       "      <td>0</td>\n",
       "      <td>0.0</td>\n",
       "      <td>3.64</td>\n",
       "      <td>0.01</td>\n",
       "      <td>40.68</td>\n",
       "      <td>4.51</td>\n",
       "      <td>2024-08-05 09:23:26</td>\n",
       "    </tr>\n",
       "  </tbody>\n",
       "</table>\n",
       "<p>65952 rows × 13 columns</p>\n",
       "</div>"
      ],
      "text/plain": [
       "          id device_id       application_id          received_at  distance  \\\n",
       "0          1     rdms1  muringato-discharge  2024-06-06 13:42:56         3   \n",
       "1          2     rdms1  muringato-discharge  2024-06-06 13:43:57         3   \n",
       "2          3     rdms1  muringato-discharge  2024-06-06 13:44:58         5   \n",
       "3          4     rdms1  muringato-discharge  2024-06-06 13:46:00         3   \n",
       "4          5     rdms1  muringato-discharge  2024-06-06 13:47:01         3   \n",
       "...      ...       ...                  ...                  ...       ...   \n",
       "65947  65948     rdms2  muringato-discharge  2024-08-05 09:14:34         0   \n",
       "65948  65949     rdms2  muringato-discharge  2024-08-05 09:16:47         0   \n",
       "65949  65950     rdms2  muringato-discharge  2024-08-05 09:18:59         0   \n",
       "65950  65951     rdms2  muringato-discharge  2024-08-05 09:21:13         0   \n",
       "65951  65952     rdms2  muringato-discharge  2024-08-05 09:23:26         0   \n",
       "\n",
       "       level  pulse  flow_rate  voltage_battery  voltage_solar   temp  \\\n",
       "0      197.0      0        0.0             3.24           0.40    NaN   \n",
       "1      197.0      0        0.0             3.24           0.40    NaN   \n",
       "2      195.0      0        0.0             3.24           0.40    NaN   \n",
       "3      197.0      0        0.0             3.24           0.40    NaN   \n",
       "4      197.0      0        0.0             3.24           0.40    NaN   \n",
       "...      ...    ...        ...              ...            ...    ...   \n",
       "65947   91.0      0        0.0             3.64           0.02  40.59   \n",
       "65948   91.0      0        0.0             3.64           0.02  40.54   \n",
       "65949   91.0      0        0.0             3.65           0.02  40.63   \n",
       "65950   91.0      0        0.0             3.63           0.02  40.59   \n",
       "65951   91.0      0        0.0             3.64           0.01  40.68   \n",
       "\n",
       "       voltage_temp           created_at  \n",
       "0               NaN  2024-06-06 13:42:56  \n",
       "1               NaN  2024-06-06 13:43:57  \n",
       "2               NaN  2024-06-06 13:44:58  \n",
       "3               NaN  2024-06-06 13:46:00  \n",
       "4               NaN  2024-06-06 13:47:01  \n",
       "...             ...                  ...  \n",
       "65947          4.50  2024-08-05 09:14:34  \n",
       "65948          4.49  2024-08-05 09:16:47  \n",
       "65949          4.50  2024-08-05 09:18:59  \n",
       "65950          4.50  2024-08-05 09:21:13  \n",
       "65951          4.51  2024-08-05 09:23:26  \n",
       "\n",
       "[65952 rows x 13 columns]"
      ]
     },
     "execution_count": 56,
     "metadata": {},
     "output_type": "execute_result"
    }
   ],
   "source": [
    "data"
   ]
  },
  {
   "cell_type": "code",
   "execution_count": 57,
   "id": "b4d74757",
   "metadata": {},
   "outputs": [],
   "source": [
    "# Drop rows with missing 'level' values\n",
    "df = data.dropna(subset=['level'])"
   ]
  },
  {
   "cell_type": "code",
   "execution_count": 58,
   "id": "5df7f850",
   "metadata": {},
   "outputs": [
    {
     "data": {
      "text/plain": [
       "id                     0\n",
       "device_id              0\n",
       "application_id         0\n",
       "received_at            0\n",
       "distance               0\n",
       "level                  0\n",
       "pulse                  0\n",
       "flow_rate              0\n",
       "voltage_battery        0\n",
       "voltage_solar          0\n",
       "temp               30610\n",
       "voltage_temp       30610\n",
       "created_at             0\n",
       "dtype: int64"
      ]
     },
     "execution_count": 58,
     "metadata": {},
     "output_type": "execute_result"
    }
   ],
   "source": [
    "df.isna().sum()"
   ]
  },
  {
   "cell_type": "code",
   "execution_count": 59,
   "id": "2a5ee692",
   "metadata": {},
   "outputs": [
    {
     "name": "stderr",
     "output_type": "stream",
     "text": [
      "C:\\Users\\HP\\AppData\\Local\\Temp\\ipykernel_3220\\3911244226.py:1: SettingWithCopyWarning: \n",
      "A value is trying to be set on a copy of a slice from a DataFrame.\n",
      "Try using .loc[row_indexer,col_indexer] = value instead\n",
      "\n",
      "See the caveats in the documentation: https://pandas.pydata.org/pandas-docs/stable/user_guide/indexing.html#returning-a-view-versus-a-copy\n",
      "  df['received_at'] = pd.to_datetime(df['received_at'])\n",
      "C:\\Users\\HP\\AppData\\Local\\Temp\\ipykernel_3220\\3911244226.py:2: SettingWithCopyWarning: \n",
      "A value is trying to be set on a copy of a slice from a DataFrame.\n",
      "Try using .loc[row_indexer,col_indexer] = value instead\n",
      "\n",
      "See the caveats in the documentation: https://pandas.pydata.org/pandas-docs/stable/user_guide/indexing.html#returning-a-view-versus-a-copy\n",
      "  df['created_at'] = pd.to_datetime(df['created_at'])\n"
     ]
    }
   ],
   "source": [
    "df['received_at'] = pd.to_datetime(df['received_at'])\n",
    "df['created_at'] = pd.to_datetime(df['created_at'])"
   ]
  },
  {
   "cell_type": "code",
   "execution_count": 60,
   "id": "21eda635",
   "metadata": {},
   "outputs": [
    {
     "name": "stdout",
     "output_type": "stream",
     "text": [
      "<class 'pandas.core.frame.DataFrame'>\n",
      "Int64Index: 65942 entries, 0 to 65951\n",
      "Data columns (total 13 columns):\n",
      " #   Column           Non-Null Count  Dtype         \n",
      "---  ------           --------------  -----         \n",
      " 0   id               65942 non-null  int64         \n",
      " 1   device_id        65942 non-null  object        \n",
      " 2   application_id   65942 non-null  object        \n",
      " 3   received_at      65942 non-null  datetime64[ns]\n",
      " 4   distance         65942 non-null  int64         \n",
      " 5   level            65942 non-null  float64       \n",
      " 6   pulse            65942 non-null  int64         \n",
      " 7   flow_rate        65942 non-null  float64       \n",
      " 8   voltage_battery  65942 non-null  float64       \n",
      " 9   voltage_solar    65942 non-null  float64       \n",
      " 10  temp             35332 non-null  float64       \n",
      " 11  voltage_temp     35332 non-null  float64       \n",
      " 12  created_at       65942 non-null  datetime64[ns]\n",
      "dtypes: datetime64[ns](2), float64(6), int64(3), object(2)\n",
      "memory usage: 7.0+ MB\n"
     ]
    }
   ],
   "source": [
    "df.info()"
   ]
  },
  {
   "cell_type": "code",
   "execution_count": 61,
   "id": "c66a8f2a",
   "metadata": {},
   "outputs": [
    {
     "name": "stderr",
     "output_type": "stream",
     "text": [
      "C:\\Users\\HP\\AppData\\Local\\Temp\\ipykernel_3220\\2550305979.py:1: SettingWithCopyWarning: \n",
      "A value is trying to be set on a copy of a slice from a DataFrame.\n",
      "Try using .loc[row_indexer,col_indexer] = value instead\n",
      "\n",
      "See the caveats in the documentation: https://pandas.pydata.org/pandas-docs/stable/user_guide/indexing.html#returning-a-view-versus-a-copy\n",
      "  df['received_hour'] = df['received_at'].dt.hour\n",
      "C:\\Users\\HP\\AppData\\Local\\Temp\\ipykernel_3220\\2550305979.py:2: SettingWithCopyWarning: \n",
      "A value is trying to be set on a copy of a slice from a DataFrame.\n",
      "Try using .loc[row_indexer,col_indexer] = value instead\n",
      "\n",
      "See the caveats in the documentation: https://pandas.pydata.org/pandas-docs/stable/user_guide/indexing.html#returning-a-view-versus-a-copy\n",
      "  df['received_minute'] = df['received_at'].dt.minute\n"
     ]
    }
   ],
   "source": [
    "df['received_hour'] = df['received_at'].dt.hour\n",
    "df['received_minute'] = df['received_at'].dt.minute\n"
   ]
  },
  {
   "cell_type": "code",
   "execution_count": 62,
   "id": "9d84e1a6",
   "metadata": {},
   "outputs": [],
   "source": [
    "df = df.drop(columns=['id', 'received_at', 'created_at'])"
   ]
  },
  {
   "cell_type": "code",
   "execution_count": 63,
   "id": "0a4cb4dc",
   "metadata": {},
   "outputs": [],
   "source": [
    "#df['level'] = df['level'].fillna(df['level'].mean())\n",
    "df['temp'] = df['temp'].fillna(df['temp'].mean())\n",
    "df['voltage_temp'] = df['voltage_temp'].fillna(df['voltage_temp'].mean())"
   ]
  },
  {
   "cell_type": "code",
   "execution_count": 64,
   "id": "1aeb7bcf",
   "metadata": {},
   "outputs": [],
   "source": [
    "X = df.drop(columns=['level'])\n",
    "y = df['level']\n"
   ]
  },
  {
   "cell_type": "code",
   "execution_count": 65,
   "id": "5e5f837b",
   "metadata": {},
   "outputs": [],
   "source": [
    "X_train, X_test, y_train, y_test = train_test_split(X, y, test_size=0.2, random_state=42)\n"
   ]
  },
  {
   "cell_type": "code",
   "execution_count": 66,
   "id": "dcbf9fa4",
   "metadata": {},
   "outputs": [],
   "source": [
    "from sklearn.model_selection import train_test_split\n",
    "from sklearn.ensemble import RandomForestRegressor\n",
    "from sklearn.metrics import mean_absolute_error, mean_squared_error\n",
    "from sklearn.preprocessing import OneHotEncoder\n",
    "from sklearn.compose import ColumnTransformer\n",
    "from sklearn.pipeline import Pipeline\n",
    "from sklearn.impute import SimpleImputer\n",
    "\n",
    "# Building preprocessing pipeline for categorical and numerical features\n",
    "categorical_features = ['device_id', 'application_id']\n",
    "numerical_features = [col for col in X.columns if col not in categorical_features]\n",
    "\n",
    "categorical_transformer = OneHotEncoder(handle_unknown='ignore')\n",
    "numerical_transformer = SimpleImputer(strategy='mean')"
   ]
  },
  {
   "cell_type": "code",
   "execution_count": 67,
   "id": "32f1d800",
   "metadata": {},
   "outputs": [],
   "source": [
    "preprocessor = ColumnTransformer(\n",
    "    transformers=[\n",
    "        ('cat', categorical_transformer, categorical_features),\n",
    "        ('num', numerical_transformer, numerical_features)\n",
    "    ])"
   ]
  },
  {
   "cell_type": "code",
   "execution_count": 68,
   "id": "01393b34",
   "metadata": {},
   "outputs": [],
   "source": [
    "\n",
    "# Building the model pipeline\n",
    "model = Pipeline(steps=[('preprocessor', preprocessor),\n",
    "                        ('regressor', RandomForestRegressor(n_estimators=100, random_state=42))])"
   ]
  },
  {
   "cell_type": "code",
   "execution_count": 69,
   "id": "eb879014",
   "metadata": {},
   "outputs": [
    {
     "data": {
      "text/plain": [
       "ColumnTransformer(transformers=[('cat', OneHotEncoder(handle_unknown='ignore'),\n",
       "                                 ['device_id', 'application_id']),\n",
       "                                ('num', SimpleImputer(),\n",
       "                                 ['distance', 'pulse', 'flow_rate',\n",
       "                                  'voltage_battery', 'voltage_solar', 'temp',\n",
       "                                  'voltage_temp', 'received_hour',\n",
       "                                  'received_minute'])])"
      ]
     },
     "execution_count": 69,
     "metadata": {},
     "output_type": "execute_result"
    }
   ],
   "source": [
    "preprocessor"
   ]
  },
  {
   "cell_type": "code",
   "execution_count": 70,
   "id": "55ad1a00",
   "metadata": {},
   "outputs": [
    {
     "data": {
      "text/plain": [
       "Pipeline(steps=[('preprocessor',\n",
       "                 ColumnTransformer(transformers=[('cat',\n",
       "                                                  OneHotEncoder(handle_unknown='ignore'),\n",
       "                                                  ['device_id',\n",
       "                                                   'application_id']),\n",
       "                                                 ('num', SimpleImputer(),\n",
       "                                                  ['distance', 'pulse',\n",
       "                                                   'flow_rate',\n",
       "                                                   'voltage_battery',\n",
       "                                                   'voltage_solar', 'temp',\n",
       "                                                   'voltage_temp',\n",
       "                                                   'received_hour',\n",
       "                                                   'received_minute'])])),\n",
       "                ('regressor', RandomForestRegressor(random_state=42))])"
      ]
     },
     "execution_count": 70,
     "metadata": {},
     "output_type": "execute_result"
    }
   ],
   "source": [
    "# Training the model\n",
    "model.fit(X_train, y_train)"
   ]
  },
  {
   "cell_type": "code",
   "execution_count": 71,
   "id": "36d6ce64",
   "metadata": {},
   "outputs": [
    {
     "data": {
      "text/plain": [
       "(3.8101125709342596, 15.992658410215267)"
      ]
     },
     "execution_count": 71,
     "metadata": {},
     "output_type": "execute_result"
    }
   ],
   "source": [
    "\n",
    "# Making predictions\n",
    "y_pred = model.predict(X_test)\n",
    "\n",
    "# Evaluating the model\n",
    "mae = mean_absolute_error(y_test, y_pred)\n",
    "mse = mean_squared_error(y_test, y_pred)\n",
    "rmse = mse ** 0.5\n",
    "\n",
    "mae, rmse"
   ]
  },
  {
   "cell_type": "code",
   "execution_count": 28,
   "id": "c7f1991d",
   "metadata": {},
   "outputs": [
    {
     "data": {
      "text/plain": [
       "0.0"
      ]
     },
     "execution_count": 28,
     "metadata": {},
     "output_type": "execute_result"
    }
   ],
   "source": [
    "df.level.min()"
   ]
  },
  {
   "cell_type": "code",
   "execution_count": 29,
   "id": "fc73982b",
   "metadata": {},
   "outputs": [
    {
     "data": {
      "text/plain": [
       "255.0"
      ]
     },
     "execution_count": 29,
     "metadata": {},
     "output_type": "execute_result"
    }
   ],
   "source": [
    "df.level.max()"
   ]
  },
  {
   "cell_type": "code",
   "execution_count": 30,
   "id": "d781030a",
   "metadata": {},
   "outputs": [
    {
     "data": {
      "text/plain": [
       "55318     55.0\n",
       "39748    196.0\n",
       "8592     187.0\n",
       "59486     57.0\n",
       "24932    117.0\n",
       "         ...  \n",
       "19136     13.0\n",
       "61351     58.0\n",
       "40009    196.0\n",
       "25780     13.0\n",
       "45862    196.0\n",
       "Name: level, Length: 13189, dtype: float64"
      ]
     },
     "execution_count": 30,
     "metadata": {},
     "output_type": "execute_result"
    }
   ],
   "source": [
    "y_test"
   ]
  },
  {
   "cell_type": "code",
   "execution_count": 31,
   "id": "42b67f98",
   "metadata": {},
   "outputs": [
    {
     "data": {
      "text/plain": [
       "array([ 54.65, 196.  , 186.36, ..., 196.  ,  12.16, 196.  ])"
      ]
     },
     "execution_count": 31,
     "metadata": {},
     "output_type": "execute_result"
    }
   ],
   "source": [
    "y_pred"
   ]
  },
  {
   "cell_type": "code",
   "execution_count": 76,
   "id": "8e01efee",
   "metadata": {},
   "outputs": [
    {
     "data": {
      "text/html": [
       "<div>\n",
       "<style scoped>\n",
       "    .dataframe tbody tr th:only-of-type {\n",
       "        vertical-align: middle;\n",
       "    }\n",
       "\n",
       "    .dataframe tbody tr th {\n",
       "        vertical-align: top;\n",
       "    }\n",
       "\n",
       "    .dataframe thead th {\n",
       "        text-align: right;\n",
       "    }\n",
       "</style>\n",
       "<table border=\"1\" class=\"dataframe\">\n",
       "  <thead>\n",
       "    <tr style=\"text-align: right;\">\n",
       "      <th></th>\n",
       "      <th>device_id</th>\n",
       "      <th>application_id</th>\n",
       "      <th>distance</th>\n",
       "      <th>pulse</th>\n",
       "      <th>flow_rate</th>\n",
       "      <th>voltage_battery</th>\n",
       "      <th>voltage_solar</th>\n",
       "      <th>temp</th>\n",
       "      <th>voltage_temp</th>\n",
       "      <th>received_hour</th>\n",
       "      <th>received_minute</th>\n",
       "    </tr>\n",
       "  </thead>\n",
       "  <tbody>\n",
       "    <tr>\n",
       "      <th>55318</th>\n",
       "      <td>rdms1</td>\n",
       "      <td>muringato-discharge</td>\n",
       "      <td>33</td>\n",
       "      <td>0</td>\n",
       "      <td>0.0</td>\n",
       "      <td>3.63</td>\n",
       "      <td>0.0</td>\n",
       "      <td>44.898418</td>\n",
       "      <td>4.983773</td>\n",
       "      <td>19</td>\n",
       "      <td>8</td>\n",
       "    </tr>\n",
       "    <tr>\n",
       "      <th>39748</th>\n",
       "      <td>rdms2</td>\n",
       "      <td>muringato-discharge</td>\n",
       "      <td>4</td>\n",
       "      <td>0</td>\n",
       "      <td>0.0</td>\n",
       "      <td>4.05</td>\n",
       "      <td>0.0</td>\n",
       "      <td>46.030000</td>\n",
       "      <td>5.110000</td>\n",
       "      <td>21</td>\n",
       "      <td>36</td>\n",
       "    </tr>\n",
       "    <tr>\n",
       "      <th>8592</th>\n",
       "      <td>rdms2</td>\n",
       "      <td>muringato-discharge</td>\n",
       "      <td>13</td>\n",
       "      <td>0</td>\n",
       "      <td>0.0</td>\n",
       "      <td>3.64</td>\n",
       "      <td>0.0</td>\n",
       "      <td>46.030000</td>\n",
       "      <td>5.110000</td>\n",
       "      <td>19</td>\n",
       "      <td>42</td>\n",
       "    </tr>\n",
       "    <tr>\n",
       "      <th>59486</th>\n",
       "      <td>rdms1</td>\n",
       "      <td>muringato-discharge</td>\n",
       "      <td>31</td>\n",
       "      <td>0</td>\n",
       "      <td>0.0</td>\n",
       "      <td>4.02</td>\n",
       "      <td>0.0</td>\n",
       "      <td>44.898418</td>\n",
       "      <td>4.983773</td>\n",
       "      <td>2</td>\n",
       "      <td>10</td>\n",
       "    </tr>\n",
       "    <tr>\n",
       "      <th>24932</th>\n",
       "      <td>rdms1</td>\n",
       "      <td>muringato-discharge</td>\n",
       "      <td>83</td>\n",
       "      <td>0</td>\n",
       "      <td>0.0</td>\n",
       "      <td>0.00</td>\n",
       "      <td>0.0</td>\n",
       "      <td>44.898418</td>\n",
       "      <td>4.983773</td>\n",
       "      <td>11</td>\n",
       "      <td>15</td>\n",
       "    </tr>\n",
       "    <tr>\n",
       "      <th>...</th>\n",
       "      <td>...</td>\n",
       "      <td>...</td>\n",
       "      <td>...</td>\n",
       "      <td>...</td>\n",
       "      <td>...</td>\n",
       "      <td>...</td>\n",
       "      <td>...</td>\n",
       "      <td>...</td>\n",
       "      <td>...</td>\n",
       "      <td>...</td>\n",
       "      <td>...</td>\n",
       "    </tr>\n",
       "    <tr>\n",
       "      <th>19136</th>\n",
       "      <td>rdms2</td>\n",
       "      <td>muringato-discharge</td>\n",
       "      <td>188</td>\n",
       "      <td>0</td>\n",
       "      <td>0.0</td>\n",
       "      <td>3.79</td>\n",
       "      <td>0.0</td>\n",
       "      <td>46.030000</td>\n",
       "      <td>5.110000</td>\n",
       "      <td>9</td>\n",
       "      <td>20</td>\n",
       "    </tr>\n",
       "    <tr>\n",
       "      <th>61351</th>\n",
       "      <td>rdms1</td>\n",
       "      <td>muringato-discharge</td>\n",
       "      <td>32</td>\n",
       "      <td>0</td>\n",
       "      <td>0.0</td>\n",
       "      <td>3.66</td>\n",
       "      <td>0.4</td>\n",
       "      <td>44.898418</td>\n",
       "      <td>4.983773</td>\n",
       "      <td>15</td>\n",
       "      <td>56</td>\n",
       "    </tr>\n",
       "    <tr>\n",
       "      <th>40009</th>\n",
       "      <td>rdms2</td>\n",
       "      <td>muringato-discharge</td>\n",
       "      <td>4</td>\n",
       "      <td>0</td>\n",
       "      <td>0.0</td>\n",
       "      <td>4.03</td>\n",
       "      <td>0.0</td>\n",
       "      <td>46.030000</td>\n",
       "      <td>5.110000</td>\n",
       "      <td>2</td>\n",
       "      <td>17</td>\n",
       "    </tr>\n",
       "    <tr>\n",
       "      <th>25780</th>\n",
       "      <td>rdms2</td>\n",
       "      <td>muringato-discharge</td>\n",
       "      <td>187</td>\n",
       "      <td>0</td>\n",
       "      <td>0.0</td>\n",
       "      <td>3.62</td>\n",
       "      <td>0.0</td>\n",
       "      <td>46.030000</td>\n",
       "      <td>5.110000</td>\n",
       "      <td>18</td>\n",
       "      <td>33</td>\n",
       "    </tr>\n",
       "    <tr>\n",
       "      <th>45862</th>\n",
       "      <td>rdms2</td>\n",
       "      <td>muringato-discharge</td>\n",
       "      <td>4</td>\n",
       "      <td>0</td>\n",
       "      <td>0.0</td>\n",
       "      <td>3.66</td>\n",
       "      <td>0.0</td>\n",
       "      <td>46.030000</td>\n",
       "      <td>5.110000</td>\n",
       "      <td>7</td>\n",
       "      <td>53</td>\n",
       "    </tr>\n",
       "  </tbody>\n",
       "</table>\n",
       "<p>13189 rows × 11 columns</p>\n",
       "</div>"
      ],
      "text/plain": [
       "      device_id       application_id  distance  pulse  flow_rate  \\\n",
       "55318     rdms1  muringato-discharge        33      0        0.0   \n",
       "39748     rdms2  muringato-discharge         4      0        0.0   \n",
       "8592      rdms2  muringato-discharge        13      0        0.0   \n",
       "59486     rdms1  muringato-discharge        31      0        0.0   \n",
       "24932     rdms1  muringato-discharge        83      0        0.0   \n",
       "...         ...                  ...       ...    ...        ...   \n",
       "19136     rdms2  muringato-discharge       188      0        0.0   \n",
       "61351     rdms1  muringato-discharge        32      0        0.0   \n",
       "40009     rdms2  muringato-discharge         4      0        0.0   \n",
       "25780     rdms2  muringato-discharge       187      0        0.0   \n",
       "45862     rdms2  muringato-discharge         4      0        0.0   \n",
       "\n",
       "       voltage_battery  voltage_solar       temp  voltage_temp  received_hour  \\\n",
       "55318             3.63            0.0  44.898418      4.983773             19   \n",
       "39748             4.05            0.0  46.030000      5.110000             21   \n",
       "8592              3.64            0.0  46.030000      5.110000             19   \n",
       "59486             4.02            0.0  44.898418      4.983773              2   \n",
       "24932             0.00            0.0  44.898418      4.983773             11   \n",
       "...                ...            ...        ...           ...            ...   \n",
       "19136             3.79            0.0  46.030000      5.110000              9   \n",
       "61351             3.66            0.4  44.898418      4.983773             15   \n",
       "40009             4.03            0.0  46.030000      5.110000              2   \n",
       "25780             3.62            0.0  46.030000      5.110000             18   \n",
       "45862             3.66            0.0  46.030000      5.110000              7   \n",
       "\n",
       "       received_minute  \n",
       "55318                8  \n",
       "39748               36  \n",
       "8592                42  \n",
       "59486               10  \n",
       "24932               15  \n",
       "...                ...  \n",
       "19136               20  \n",
       "61351               56  \n",
       "40009               17  \n",
       "25780               33  \n",
       "45862               53  \n",
       "\n",
       "[13189 rows x 11 columns]"
      ]
     },
     "execution_count": 76,
     "metadata": {},
     "output_type": "execute_result"
    }
   ],
   "source": [
    "X_test"
   ]
  },
  {
   "cell_type": "code",
   "execution_count": 141,
   "id": "2f6b2935",
   "metadata": {},
   "outputs": [],
   "source": [
    "# Function to clean and predict new data\n",
    "def clean_and_predict(new_data, model):\n",
    "    # Convert date columns to datetime format\n",
    "    new_data['received_at'] = pd.to_datetime(new_data['received_at'])\n",
    " \n",
    "\n",
    "    # Feature engineering\n",
    "    new_data['received_hour'] = new_data['received_at'].dt.hour\n",
    "    new_data['received_minute'] = new_data['received_at'].dt.minute\n",
    "\n",
    "\n",
    "    # Dropping irrelevant columns\n",
    "    new_data = new_data.drop(columns=['id','received_at', 'created_at'])\n",
    "\n",
    "    # Handling missing values\n",
    "    new_data['temp'] = new_data['temp'].fillna(new_data['temp'].mean())\n",
    "    new_data['voltage_temp'] = new_data['voltage_temp'].fillna(new_data['voltage_temp'].mean())\n",
    "\n",
    "    # Apply preprocessing and prediction\n",
    "    X_new = new_data\n",
    "    #X_new_transformed = preprocessor.transform(X_new)\n",
    "    prediction = model.predict(X_new)\n",
    "\n",
    "    return prediction"
   ]
  },
  {
   "cell_type": "code",
   "execution_count": 137,
   "id": "ca0ee70e",
   "metadata": {},
   "outputs": [
    {
     "name": "stdout",
     "output_type": "stream",
     "text": [
      "Index(['device_id', 'application_id', 'distance', 'pulse', 'flow_rate',\n",
      "       'voltage_battery', 'voltage_solar', 'temp', 'voltage_temp',\n",
      "       'received_hour', 'received_minute'],\n",
      "      dtype='object')\n"
     ]
    }
   ],
   "source": [
    "print(new_data.columns)"
   ]
  },
  {
   "cell_type": "code",
   "execution_count": 138,
   "id": "ad52cc47",
   "metadata": {},
   "outputs": [
    {
     "name": "stdout",
     "output_type": "stream",
     "text": [
      "(1, 12)\n"
     ]
    }
   ],
   "source": [
    "X_new_transformed = preprocessor.transform(new_data)\n",
    "print(X_new_transformed.shape)"
   ]
  },
  {
   "cell_type": "code",
   "execution_count": 139,
   "id": "b07cf00d",
   "metadata": {},
   "outputs": [
    {
     "name": "stdout",
     "output_type": "stream",
     "text": [
      "{'cat': OneHotEncoder(handle_unknown='ignore'), 'num': SimpleImputer()}\n"
     ]
    }
   ],
   "source": [
    "print(preprocessor.named_transformers_)"
   ]
  },
  {
   "cell_type": "code",
   "execution_count": 136,
   "id": "0f45afa7",
   "metadata": {},
   "outputs": [
    {
     "name": "stdout",
     "output_type": "stream",
     "text": [
      "Index(['device_id', 'application_id', 'distance', 'pulse', 'flow_rate',\n",
      "       'voltage_battery', 'voltage_solar', 'temp', 'voltage_temp',\n",
      "       'received_hour', 'received_minute'],\n",
      "      dtype='object')\n",
      "Columns present: ['device_id', 'application_id', 'distance', 'pulse', 'flow_rate', 'voltage_battery', 'voltage_solar', 'temp', 'voltage_temp', 'received_hour', 'received_minute']\n",
      "Expected columns: ['device_id', 'application_id', 'distance', 'pulse', 'flow_rate', 'voltage_battery', 'voltage_solar', 'temp', 'voltage_temp', 'received_hour', 'received_minute']\n"
     ]
    }
   ],
   "source": [
    "expected_columns = ['device_id', 'application_id', 'distance', 'pulse', 'flow_rate', 'voltage_battery', 'voltage_solar', 'temp', 'voltage_temp', 'received_hour', 'received_minute']\n",
    "print(new_data.columns)\n",
    "print(\"Columns present:\", new_data.columns.tolist())\n",
    "print(\"Expected columns:\", expected_columns)"
   ]
  },
  {
   "cell_type": "code",
   "execution_count": 148,
   "id": "9ea57f6e",
   "metadata": {},
   "outputs": [],
   "source": [
    "ndata = pd.DataFrame([{\n",
    "    'id': 55,\n",
    "    'device_id': 'rdms1',\n",
    "    'application_id': 'muringato-discharge',\n",
    "    'received_at': '6/6/2024 14:23',\n",
    "    'distance': 3,\n",
    "    'pulse': 0,\n",
    "    'flow_rate': 0,\n",
    "    'voltage_battery': 3.24,\n",
    "    'voltage_solar': 0.4,\n",
    "    'temp':44.898,\n",
    "    'voltage_temp': 4.986773,\n",
    "    'created_at': '6/6/2024 13:42'\n",
    "}])"
   ]
  },
  {
   "cell_type": "code",
   "execution_count": null,
   "id": "1841d67d",
   "metadata": {},
   "outputs": [],
   "source": []
  },
  {
   "cell_type": "code",
   "execution_count": 153,
   "id": "d862667c",
   "metadata": {},
   "outputs": [
    {
     "data": {
      "text/plain": [
       "array(['muringato-discharge', 'discharge'], dtype=object)"
      ]
     },
     "execution_count": 153,
     "metadata": {},
     "output_type": "execute_result"
    }
   ],
   "source": [
    "data.application_id.unique()"
   ]
  },
  {
   "cell_type": "code",
   "execution_count": 143,
   "id": "4a8d5538",
   "metadata": {},
   "outputs": [
    {
     "name": "stdout",
     "output_type": "stream",
     "text": [
      "(13189, 12)\n"
     ]
    }
   ],
   "source": [
    "X_new_transformed = preprocessor.transform(X_test)\n",
    "print(X_new_transformed.shape)"
   ]
  },
  {
   "cell_type": "code",
   "execution_count": null,
   "id": "b3c48afe",
   "metadata": {},
   "outputs": [],
   "source": []
  },
  {
   "cell_type": "markdown",
   "id": "a4e8cbbe",
   "metadata": {},
   "source": [
    "preprocessor = ColumnTransformer(\n",
    "    transformers=[\n",
    "        ('cat', OneHotEncoder(handle_unknown='ignore'), ['device_id', 'application_id']),\n",
    "        ('num', SimpleImputer(strategy='mean'), ['distance', 'pulse', 'flow_rate', 'voltage_battery', 'voltage_solar', 'temp', 'voltage_temp', 'received_hour', 'received_minute', 'created_hour', 'created_minute'])\n",
    "    ])"
   ]
  },
  {
   "cell_type": "code",
   "execution_count": 133,
   "id": "92318390",
   "metadata": {},
   "outputs": [
    {
     "data": {
      "text/plain": [
       "ColumnTransformer(transformers=[('cat', OneHotEncoder(handle_unknown='ignore'),\n",
       "                                 ['device_id', 'application_id']),\n",
       "                                ('num', SimpleImputer(),\n",
       "                                 ['distance', 'pulse', 'flow_rate',\n",
       "                                  'voltage_battery', 'voltage_solar', 'temp',\n",
       "                                  'voltage_temp', 'received_hour',\n",
       "                                  'received_minute'])])"
      ]
     },
     "execution_count": 133,
     "metadata": {},
     "output_type": "execute_result"
    }
   ],
   "source": [
    "preprocessor"
   ]
  },
  {
   "cell_type": "code",
   "execution_count": null,
   "id": "78319bd7",
   "metadata": {},
   "outputs": [],
   "source": []
  },
  {
   "cell_type": "code",
   "execution_count": 149,
   "id": "ec3492f9",
   "metadata": {},
   "outputs": [
    {
     "name": "stdout",
     "output_type": "stream",
     "text": [
      "[193.64]\n"
     ]
    }
   ],
   "source": [
    "# Predict the level for the new data\n",
    "predicted_level = clean_and_predict(ndata, model)\n",
    "print(predicted_level)"
   ]
  },
  {
   "cell_type": "code",
   "execution_count": 128,
   "id": "243a92d0",
   "metadata": {},
   "outputs": [
    {
     "data": {
      "text/html": [
       "<div>\n",
       "<style scoped>\n",
       "    .dataframe tbody tr th:only-of-type {\n",
       "        vertical-align: middle;\n",
       "    }\n",
       "\n",
       "    .dataframe tbody tr th {\n",
       "        vertical-align: top;\n",
       "    }\n",
       "\n",
       "    .dataframe thead th {\n",
       "        text-align: right;\n",
       "    }\n",
       "</style>\n",
       "<table border=\"1\" class=\"dataframe\">\n",
       "  <thead>\n",
       "    <tr style=\"text-align: right;\">\n",
       "      <th></th>\n",
       "      <th>device_id</th>\n",
       "      <th>application_id</th>\n",
       "      <th>distance</th>\n",
       "      <th>pulse</th>\n",
       "      <th>flow_rate</th>\n",
       "      <th>voltage_battery</th>\n",
       "      <th>voltage_solar</th>\n",
       "      <th>temp</th>\n",
       "      <th>voltage_temp</th>\n",
       "      <th>received_hour</th>\n",
       "      <th>received_minute</th>\n",
       "    </tr>\n",
       "  </thead>\n",
       "  <tbody>\n",
       "    <tr>\n",
       "      <th>55318</th>\n",
       "      <td>rdms1</td>\n",
       "      <td>muringato-discharge</td>\n",
       "      <td>33</td>\n",
       "      <td>0</td>\n",
       "      <td>0.0</td>\n",
       "      <td>3.63</td>\n",
       "      <td>0.0</td>\n",
       "      <td>44.898418</td>\n",
       "      <td>4.983773</td>\n",
       "      <td>19</td>\n",
       "      <td>8</td>\n",
       "    </tr>\n",
       "    <tr>\n",
       "      <th>39748</th>\n",
       "      <td>rdms2</td>\n",
       "      <td>muringato-discharge</td>\n",
       "      <td>4</td>\n",
       "      <td>0</td>\n",
       "      <td>0.0</td>\n",
       "      <td>4.05</td>\n",
       "      <td>0.0</td>\n",
       "      <td>46.030000</td>\n",
       "      <td>5.110000</td>\n",
       "      <td>21</td>\n",
       "      <td>36</td>\n",
       "    </tr>\n",
       "    <tr>\n",
       "      <th>8592</th>\n",
       "      <td>rdms2</td>\n",
       "      <td>muringato-discharge</td>\n",
       "      <td>13</td>\n",
       "      <td>0</td>\n",
       "      <td>0.0</td>\n",
       "      <td>3.64</td>\n",
       "      <td>0.0</td>\n",
       "      <td>46.030000</td>\n",
       "      <td>5.110000</td>\n",
       "      <td>19</td>\n",
       "      <td>42</td>\n",
       "    </tr>\n",
       "    <tr>\n",
       "      <th>59486</th>\n",
       "      <td>rdms1</td>\n",
       "      <td>muringato-discharge</td>\n",
       "      <td>31</td>\n",
       "      <td>0</td>\n",
       "      <td>0.0</td>\n",
       "      <td>4.02</td>\n",
       "      <td>0.0</td>\n",
       "      <td>44.898418</td>\n",
       "      <td>4.983773</td>\n",
       "      <td>2</td>\n",
       "      <td>10</td>\n",
       "    </tr>\n",
       "    <tr>\n",
       "      <th>24932</th>\n",
       "      <td>rdms1</td>\n",
       "      <td>muringato-discharge</td>\n",
       "      <td>83</td>\n",
       "      <td>0</td>\n",
       "      <td>0.0</td>\n",
       "      <td>0.00</td>\n",
       "      <td>0.0</td>\n",
       "      <td>44.898418</td>\n",
       "      <td>4.983773</td>\n",
       "      <td>11</td>\n",
       "      <td>15</td>\n",
       "    </tr>\n",
       "    <tr>\n",
       "      <th>...</th>\n",
       "      <td>...</td>\n",
       "      <td>...</td>\n",
       "      <td>...</td>\n",
       "      <td>...</td>\n",
       "      <td>...</td>\n",
       "      <td>...</td>\n",
       "      <td>...</td>\n",
       "      <td>...</td>\n",
       "      <td>...</td>\n",
       "      <td>...</td>\n",
       "      <td>...</td>\n",
       "    </tr>\n",
       "    <tr>\n",
       "      <th>19136</th>\n",
       "      <td>rdms2</td>\n",
       "      <td>muringato-discharge</td>\n",
       "      <td>188</td>\n",
       "      <td>0</td>\n",
       "      <td>0.0</td>\n",
       "      <td>3.79</td>\n",
       "      <td>0.0</td>\n",
       "      <td>46.030000</td>\n",
       "      <td>5.110000</td>\n",
       "      <td>9</td>\n",
       "      <td>20</td>\n",
       "    </tr>\n",
       "    <tr>\n",
       "      <th>61351</th>\n",
       "      <td>rdms1</td>\n",
       "      <td>muringato-discharge</td>\n",
       "      <td>32</td>\n",
       "      <td>0</td>\n",
       "      <td>0.0</td>\n",
       "      <td>3.66</td>\n",
       "      <td>0.4</td>\n",
       "      <td>44.898418</td>\n",
       "      <td>4.983773</td>\n",
       "      <td>15</td>\n",
       "      <td>56</td>\n",
       "    </tr>\n",
       "    <tr>\n",
       "      <th>40009</th>\n",
       "      <td>rdms2</td>\n",
       "      <td>muringato-discharge</td>\n",
       "      <td>4</td>\n",
       "      <td>0</td>\n",
       "      <td>0.0</td>\n",
       "      <td>4.03</td>\n",
       "      <td>0.0</td>\n",
       "      <td>46.030000</td>\n",
       "      <td>5.110000</td>\n",
       "      <td>2</td>\n",
       "      <td>17</td>\n",
       "    </tr>\n",
       "    <tr>\n",
       "      <th>25780</th>\n",
       "      <td>rdms2</td>\n",
       "      <td>muringato-discharge</td>\n",
       "      <td>187</td>\n",
       "      <td>0</td>\n",
       "      <td>0.0</td>\n",
       "      <td>3.62</td>\n",
       "      <td>0.0</td>\n",
       "      <td>46.030000</td>\n",
       "      <td>5.110000</td>\n",
       "      <td>18</td>\n",
       "      <td>33</td>\n",
       "    </tr>\n",
       "    <tr>\n",
       "      <th>45862</th>\n",
       "      <td>rdms2</td>\n",
       "      <td>muringato-discharge</td>\n",
       "      <td>4</td>\n",
       "      <td>0</td>\n",
       "      <td>0.0</td>\n",
       "      <td>3.66</td>\n",
       "      <td>0.0</td>\n",
       "      <td>46.030000</td>\n",
       "      <td>5.110000</td>\n",
       "      <td>7</td>\n",
       "      <td>53</td>\n",
       "    </tr>\n",
       "  </tbody>\n",
       "</table>\n",
       "<p>13189 rows × 11 columns</p>\n",
       "</div>"
      ],
      "text/plain": [
       "      device_id       application_id  distance  pulse  flow_rate  \\\n",
       "55318     rdms1  muringato-discharge        33      0        0.0   \n",
       "39748     rdms2  muringato-discharge         4      0        0.0   \n",
       "8592      rdms2  muringato-discharge        13      0        0.0   \n",
       "59486     rdms1  muringato-discharge        31      0        0.0   \n",
       "24932     rdms1  muringato-discharge        83      0        0.0   \n",
       "...         ...                  ...       ...    ...        ...   \n",
       "19136     rdms2  muringato-discharge       188      0        0.0   \n",
       "61351     rdms1  muringato-discharge        32      0        0.0   \n",
       "40009     rdms2  muringato-discharge         4      0        0.0   \n",
       "25780     rdms2  muringato-discharge       187      0        0.0   \n",
       "45862     rdms2  muringato-discharge         4      0        0.0   \n",
       "\n",
       "       voltage_battery  voltage_solar       temp  voltage_temp  received_hour  \\\n",
       "55318             3.63            0.0  44.898418      4.983773             19   \n",
       "39748             4.05            0.0  46.030000      5.110000             21   \n",
       "8592              3.64            0.0  46.030000      5.110000             19   \n",
       "59486             4.02            0.0  44.898418      4.983773              2   \n",
       "24932             0.00            0.0  44.898418      4.983773             11   \n",
       "...                ...            ...        ...           ...            ...   \n",
       "19136             3.79            0.0  46.030000      5.110000              9   \n",
       "61351             3.66            0.4  44.898418      4.983773             15   \n",
       "40009             4.03            0.0  46.030000      5.110000              2   \n",
       "25780             3.62            0.0  46.030000      5.110000             18   \n",
       "45862             3.66            0.0  46.030000      5.110000              7   \n",
       "\n",
       "       received_minute  \n",
       "55318                8  \n",
       "39748               36  \n",
       "8592                42  \n",
       "59486               10  \n",
       "24932               15  \n",
       "...                ...  \n",
       "19136               20  \n",
       "61351               56  \n",
       "40009               17  \n",
       "25780               33  \n",
       "45862               53  \n",
       "\n",
       "[13189 rows x 11 columns]"
      ]
     },
     "execution_count": 128,
     "metadata": {},
     "output_type": "execute_result"
    }
   ],
   "source": [
    "X_test"
   ]
  },
  {
   "cell_type": "code",
   "execution_count": null,
   "id": "52b6bd9d",
   "metadata": {},
   "outputs": [],
   "source": []
  }
 ],
 "metadata": {
  "kernelspec": {
   "display_name": "Python 3 (ipykernel)",
   "language": "python",
   "name": "python3"
  },
  "language_info": {
   "codemirror_mode": {
    "name": "ipython",
    "version": 3
   },
   "file_extension": ".py",
   "mimetype": "text/x-python",
   "name": "python",
   "nbconvert_exporter": "python",
   "pygments_lexer": "ipython3",
   "version": "3.9.13"
  }
 },
 "nbformat": 4,
 "nbformat_minor": 5
}
